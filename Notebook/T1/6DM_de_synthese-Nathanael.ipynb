{
 "cells": [
  {
   "cell_type": "markdown",
   "metadata": {},
   "source": [
    "# Python génère des chaines de caractères pour MarkDown, HTML, ...\n",
    "\n",
    "Reprendre le <span class='fa fa-code' style=\"color: purple\"> A coder vous même :</span> du notebook [binaire](../Binaire-Le_BN_pour_coder)\n",
    " et, en vous inspirant du notebook [Display](../Display-Le_BN_pour_afficher),\n",
    " développer des scripts Python pour générer les chaines de caractères en MarkDown et HTML\n",
    "  qui reproduisent un tableau de conversion de décimal en binaire tel que :\n",
    "\n",
    "\n",
    "| dec\\bin | $128$ | $64$  | $32$  | $16$  |  $8$  |  $4$  |  $2$  |  $1$  |\n",
    "|---------|:-----:|:-----:|:-----:|:-----:|:-----:|:-----:|:-----:|:-----:|\n",
    "| $1$     |  $0$  |  $0$  |  $0$  |  $0$  |  $0$  |  $0$  |  $0$  |  $1$  |\n",
    "| $2$     |  $0$  |  $0$  |  $0$  |  $0$  |  $0$  |  $0$  |  $1$  |  $0$  |\n",
    "| $3$     |  $0$  |  $0$  |  $0$  |  $0$  |  $0$  |  $0$  |  $1$  |  $1$  |\n",
    "| $4$     |  $0$  |  $0$  |  $0$  |  $0$  |  $0$  |  $1$  |  $0$  |  $0$  |\n",
    "| $5$     |  $0$  |  $0$  |  $0$  |  $0$  |  $0$  |  $1$  |  $0$  |  $1$  |\n",
    "| $6$     |  $0$  |  $0$  |  $0$  |  $0$  |  $0$  |  $1$  |  $1$  |  $0$  |\n",
    "| $7$     |  $0$  |  $0$  |  $0$  |  $0$  |  $0$  |  $1$  |  $1$  |  $1$  |\n",
    "| $8$     |  $0$  |  $0$  |  $0$  |  $0$  |  $1$  |  $0$  |  $0$  |  $0$  |\n",
    "| $9$     |  $0$  |  $0$  |  $0$  |  $0$  |  $1$  |  $0$  |  $0$  |  $1$  |\n",
    "| $10$    |  $0$  |  $0$  |  $0$  |  $0$  |  $1$  |  $0$  |  $1$  |  $0$  |\n",
    "| $11$    |  $0$  |  $0$  |  $0$  |  $0$  |  $1$  |  $0$  |  $1$  |  $1$  |\n",
    "| $12$    |  $0$  |  $0$  |  $0$  |  $0$  |  $1$  |  $1$  |  $0$  |  $0$  |\n",
    "| $13$    |  $0$  |  $0$  |  $0$  |  $0$  |  $1$  |  $1$  |  $0$  |  $1$  |\n",
    "| $14$    |  $0$  |  $0$  |  $0$  |  $0$  |  $1$  |  $1$  |  $1$  |  $0$  |\n",
    "| $15$    |  $0$  |  $0$  |  $0$  |  $0$  |  $1$  |  $1$  |  $1$  |  $1$  |\n",
    "| $16$    |  $0$  |  $0$  |  $0$  |  $1$  |  $0$  |  $0$  |  $0$  |  $0$  |\n",
    "| $20$    |  $0$  |  $0$  |  $0$  |  $1$  |  $0$  |  $1$  |  $0$  |  $0$  |\n",
    "| $50$    |  $0$  |  $0$  |  $1$  |  $1$  |  $0$  |  $0$  |  $1$  |  $0$  |\n",
    "| $100$   |  $0$  |  $1$  |  $1$  |  $0$  |  $0$  |  $1$  |  $0$  |  $0$  |\n",
    "| $200$   |  $1$  |  $1$  |  $0$  |  $0$  |  $1$  |  $0$  |  $0$  |  $0$  |\n",
    "| $255$   |  $1$  |  $1$  |  $1$  |  $1$  |  $1$  |  $1$  |  $1$  |  $1$  |"
   ]
  },
  {
   "cell_type": "markdown",
   "metadata": {},
   "source": [
    "# Tableau en Markdown :"
   ]
  },
  {
   "cell_type": "code",
   "execution_count": 6,
   "metadata": {},
   "outputs": [
    {
     "data": {
      "text/markdown": [
       "| dec \\ bin | 128 | 64  | 32  | 16  |  8  |  4  |  2  |  1  |\n",
       "|:-:|:-:|:-:|:-:|:-:|:-:|:-:|:-:|:-:|\n",
       "| 0 | 0 | 0 | 0 | 0 | 0 | 0 | 0 | 0 |\n",
       "| 1 | 0 | 0 | 0 | 0 | 0 | 0 | 0 | 1 |\n",
       "| 2 | 0 | 0 | 0 | 0 | 0 | 0 | 1 | 0 |\n",
       "| 3 | 0 | 0 | 0 | 0 | 0 | 0 | 1 | 1 |\n",
       "| 4 | 0 | 0 | 0 | 0 | 0 | 1 | 0 | 0 |\n",
       "| 5 | 0 | 0 | 0 | 0 | 0 | 1 | 0 | 1 |\n",
       "| 6 | 0 | 0 | 0 | 0 | 0 | 1 | 1 | 0 |\n",
       "| 7 | 0 | 0 | 0 | 0 | 0 | 1 | 1 | 1 |\n",
       "| 8 | 0 | 0 | 0 | 0 | 1 | 0 | 0 | 0 |\n",
       "| 9 | 0 | 0 | 0 | 0 | 1 | 0 | 0 | 1 |\n",
       "| 10 | 0 | 0 | 0 | 0 | 1 | 0 | 1 | 0 |\n",
       "| 11 | 0 | 0 | 0 | 0 | 1 | 0 | 1 | 1 |\n",
       "| 12 | 0 | 0 | 0 | 0 | 1 | 1 | 0 | 0 |\n",
       "| 13 | 0 | 0 | 0 | 0 | 1 | 1 | 0 | 1 |\n",
       "| 14 | 0 | 0 | 0 | 0 | 1 | 1 | 1 | 0 |\n",
       "| 15 | 0 | 0 | 0 | 0 | 1 | 1 | 1 | 1 |\n",
       "| 16 | 0 | 0 | 0 | 1 | 0 | 0 | 0 | 0 |\n",
       "| 20 | 0 | 0 | 0 | 1 | 0 | 1 | 0 | 0 |\n",
       "| 50 | 0 | 0 | 1 | 1 | 0 | 0 | 1 | 0 |\n",
       "| 100 | 0 | 1 | 1 | 0 | 0 | 1 | 0 | 0 |\n",
       "| 200 | 1 | 1 | 0 | 0 | 1 | 0 | 0 | 0 |\n",
       "| 255 | 1 | 1 | 1 | 1 | 1 | 1 | 1 | 1 |\n"
      ],
      "text/plain": [
       "<IPython.core.display.Markdown object>"
      ]
     },
     "execution_count": 6,
     "metadata": {},
     "output_type": "execute_result"
    }
   ],
   "source": [
    "from IPython.display import Markdown\n",
    "\n",
    "\n",
    "chaine = \"| dec \\ bin | 128 | 64  | 32  | 16  |  8  |  4  |  2  |  1  |\" + \"\\n\"\n",
    "chaine += \"|:-:\" * 9 + \"|\" + \"\\n\"\n",
    "\n",
    "\n",
    "for i in range(17):\n",
    "    binaire = format(i, \"b\")\n",
    "    nombre = len(binaire)-2\n",
    "    while nombre < 6:\n",
    "        binaire = \"0\" + binaire\n",
    "        nombre = len(binaire)-2\n",
    "    chaine += f\"| {i} | {binaire[0]} | {binaire[1]} | {binaire[2]} | {binaire[3]} | {binaire[4]} | {binaire[5]} | {binaire[6]} | {binaire[7]} |\" + \"\\n\"\n",
    "\n",
    "    \n",
    "for i in range(5):\n",
    "    tuple = (20, 50, 100, 200, 255)\n",
    "    binaire = format(tuple[i], \"b\")\n",
    "    nombre = len(binaire)-2\n",
    "    while nombre < 6:\n",
    "        binaire = \"0\" + binaire\n",
    "        nombre = len(binaire)-2\n",
    "    chaine += f\"| {tuple[i]} | {binaire[0]} | {binaire[1]} | {binaire[2]} | {binaire[3]} | {binaire[4]} | {binaire[5]} | {binaire[6]} | {binaire[7]} |\" + \"\\n\"\n",
    "    \n",
    "    \n",
    "Markdown(chaine)"
   ]
  },
  {
   "cell_type": "markdown",
   "metadata": {},
   "source": [
    "# Tableau en HTML :"
   ]
  },
  {
   "cell_type": "code",
   "execution_count": 5,
   "metadata": {},
   "outputs": [
    {
     "data": {
      "text/html": [
       "<table><tr><td> dec \\ bin </td><td> 128 </td><td> 64  </td><td> 32  </td><td> 16  </td><td>  8  </td><td>  4  </td><td>  2  </td><td>  1  </td></tr><tr><td> 0 </td><td> 0 </td><td> 0 </td><td> 0 </td><td> 0 </td><td> 0 </td><td> 0 </td><td> 0 </td><td> 0 </td></tr><tr><td> 1 </td><td> 0 </td><td> 0 </td><td> 0 </td><td> 0 </td><td> 0 </td><td> 0 </td><td> 0 </td><td> 1 </td></tr><tr><td> 2 </td><td> 0 </td><td> 0 </td><td> 0 </td><td> 0 </td><td> 0 </td><td> 0 </td><td> 1 </td><td> 0 </td></tr><tr><td> 3 </td><td> 0 </td><td> 0 </td><td> 0 </td><td> 0 </td><td> 0 </td><td> 0 </td><td> 1 </td><td> 1 </td></tr><tr><td> 4 </td><td> 0 </td><td> 0 </td><td> 0 </td><td> 0 </td><td> 0 </td><td> 1 </td><td> 0 </td><td> 0 </td></tr><tr><td> 5 </td><td> 0 </td><td> 0 </td><td> 0 </td><td> 0 </td><td> 0 </td><td> 1 </td><td> 0 </td><td> 1 </td></tr><tr><td> 6 </td><td> 0 </td><td> 0 </td><td> 0 </td><td> 0 </td><td> 0 </td><td> 1 </td><td> 1 </td><td> 0 </td></tr><tr><td> 7 </td><td> 0 </td><td> 0 </td><td> 0 </td><td> 0 </td><td> 0 </td><td> 1 </td><td> 1 </td><td> 1 </td></tr><tr><td> 8 </td><td> 0 </td><td> 0 </td><td> 0 </td><td> 0 </td><td> 1 </td><td> 0 </td><td> 0 </td><td> 0 </td></tr><tr><td> 9 </td><td> 0 </td><td> 0 </td><td> 0 </td><td> 0 </td><td> 1 </td><td> 0 </td><td> 0 </td><td> 1 </td></tr><tr><td> 10 </td><td> 0 </td><td> 0 </td><td> 0 </td><td> 0 </td><td> 1 </td><td> 0 </td><td> 1 </td><td> 0 </td></tr><tr><td> 11 </td><td> 0 </td><td> 0 </td><td> 0 </td><td> 0 </td><td> 1 </td><td> 0 </td><td> 1 </td><td> 1 </td></tr><tr><td> 12 </td><td> 0 </td><td> 0 </td><td> 0 </td><td> 0 </td><td> 1 </td><td> 1 </td><td> 0 </td><td> 0 </td></tr><tr><td> 13 </td><td> 0 </td><td> 0 </td><td> 0 </td><td> 0 </td><td> 1 </td><td> 1 </td><td> 0 </td><td> 1 </td></tr><tr><td> 14 </td><td> 0 </td><td> 0 </td><td> 0 </td><td> 0 </td><td> 1 </td><td> 1 </td><td> 1 </td><td> 0 </td></tr><tr><td> 15 </td><td> 0 </td><td> 0 </td><td> 0 </td><td> 0 </td><td> 1 </td><td> 1 </td><td> 1 </td><td> 1 </td></tr><tr><td> 16 </td><td> 0 </td><td> 0 </td><td> 0 </td><td> 1 </td><td> 0 </td><td> 0 </td><td> 0 </td><td> 0 </td></tr><tr><td> 20 </td><td> 0 </td><td> 0 </td><td> 0 </td><td> 1 </td><td> 0 </td><td> 1 </td><td> 0 </td><td> 0 </td></tr><tr><td> 50 </td><td> 0 </td><td> 0 </td><td> 1 </td><td> 1 </td><td> 0 </td><td> 0 </td><td> 1 </td><td> 0 </td></tr><tr><td> 100 </td><td> 0 </td><td> 1 </td><td> 1 </td><td> 0 </td><td> 0 </td><td> 1 </td><td> 0 </td><td> 0 </td></tr><tr><td> 200 </td><td> 1 </td><td> 1 </td><td> 0 </td><td> 0 </td><td> 1 </td><td> 0 </td><td> 0 </td><td> 0 </td></tr><tr><td> 255 </td><td> 1 </td><td> 1 </td><td> 1 </td><td> 1 </td><td> 1 </td><td> 1 </td><td> 1 </td><td> 1 </td></tr>"
      ],
      "text/plain": [
       "<IPython.core.display.HTML object>"
      ]
     },
     "execution_count": 5,
     "metadata": {},
     "output_type": "execute_result"
    }
   ],
   "source": [
    "from IPython.display import HTML\n",
    "\n",
    "\n",
    "chaine = \"<table><tr><td> dec \\ bin </td><td> 128 </td><td> 64  </td><td> 32  </td><td> 16  </td><td>  8  </td><td>  4  </td><td>  2  </td><td>  1  </td></tr>\"\n",
    "\n",
    "\n",
    "for i in range(17):\n",
    "    binaire = format(i, \"b\")\n",
    "    nombre = len(binaire)-2\n",
    "    while nombre < 6:\n",
    "        binaire = \"0\" + binaire\n",
    "        nombre = len(binaire)-2\n",
    "    chaine += f\"<tr><td> {i} </td><td> {binaire[0]} </td><td> {binaire[1]} </td><td> {binaire[2]} </td><td> {binaire[3]} </td><td> {binaire[4]} </td><td> {binaire[5]} </td><td> {binaire[6]} </td><td> {binaire[7]} </td></tr>\"\n",
    "\n",
    "    \n",
    "for i in range(5):\n",
    "    tuple = (20, 50, 100, 200, 255)\n",
    "    binaire = format(tuple[i], \"b\")\n",
    "    nombre = len(binaire)-2\n",
    "    while nombre < 6:\n",
    "        binaire = \"0\" + binaire\n",
    "        nombre = len(binaire)-2\n",
    "    chaine += f\"<tr><td> {tuple[i]} </td><td> {binaire[0]} </td><td> {binaire[1]} </td><td> {binaire[2]} </td><td> {binaire[3]} </td><td> {binaire[4]} </td><td> {binaire[5]} </td><td> {binaire[6]} </td><td> {binaire[7]} </td></tr>\"\n",
    "    \n",
    "\n",
    "HTML(chaine)"
   ]
  },
  {
   "cell_type": "markdown",
   "metadata": {},
   "source": [
    "# Tableau Markdown avec fonction :"
   ]
  },
  {
   "cell_type": "code",
   "execution_count": null,
   "metadata": {},
   "outputs": [],
   "source": [
    "from IPython.display import Markdown\n",
    "\n",
    "\n",
    "chaine = \"| dec \\ bin | 128 | 64  | 32  | 16  |  8  |  4  |  2  |  1  |\" + \"\\n\"\n",
    "chaine += \"|:-:\" * 9 + \"|\" + \"\\n\"\n",
    "\n",
    "\n",
    "def ligne(binaire):\n",
    "    \n",
    "\n",
    "\n",
    "\n",
    "\n",
    "\n",
    "for i in range(17):\n",
    "    binaire = format(i, \"b\")\n",
    "    nombre = len(binaire)-2\n",
    "    while nombre < 6:\n",
    "        binaire = \"0\" + binaire\n",
    "        nombre = len(binaire)-2\n",
    "    chaine += f\"| {i} | {binaire[0]} | {binaire[1]} | {binaire[2]} | {binaire[3]} | {binaire[4]} | {binaire[5]} | {binaire[6]} | {binaire[7]} |\" + \"\\n\"\n",
    "\n",
    "    \n",
    "for i in range(5):\n",
    "    tuple = (20, 50, 100, 200, 255)\n",
    "    binaire = format(tuple[i], \"b\")\n",
    "    nombre = len(binaire)-2\n",
    "    while nombre < 6:\n",
    "        binaire = \"0\" + binaire\n",
    "        nombre = len(binaire)-2\n",
    "    chaine += f\"| {tuple[i]} | {binaire[0]} | {binaire[1]} | {binaire[2]} | {binaire[3]} | {binaire[4]} | {binaire[5]} | {binaire[6]} | {binaire[7]} |\" + \"\\n\"\n",
    "    \n",
    "    \n",
    "Markdown(chaine)"
   ]
  },
  {
   "cell_type": "markdown",
   "metadata": {},
   "source": []
  }
 ],
 "metadata": {
  "kernelspec": {
   "display_name": "Python 3",
   "language": "python",
   "name": "python3"
  },
  "language_info": {
   "codemirror_mode": {
    "name": "ipython",
    "version": 3
   },
   "file_extension": ".py",
   "mimetype": "text/x-python",
   "name": "python",
   "nbconvert_exporter": "python",
   "pygments_lexer": "ipython3",
   "version": "3.7.1"
  },
  "toc": {
   "base_numbering": 1,
   "nav_menu": {},
   "number_sections": true,
   "sideBar": true,
   "skip_h1_title": false,
   "title_cell": "Table of Contents",
   "title_sidebar": "Contents",
   "toc_cell": false,
   "toc_position": {},
   "toc_section_display": true,
   "toc_window_display": false
  },
  "varInspector": {
   "cols": {
    "lenName": 16,
    "lenType": 16,
    "lenVar": 40
   },
   "kernels_config": {
    "python": {
     "delete_cmd_postfix": "",
     "delete_cmd_prefix": "del ",
     "library": "var_list.py",
     "varRefreshCmd": "print(var_dic_list())"
    },
    "r": {
     "delete_cmd_postfix": ") ",
     "delete_cmd_prefix": "rm(",
     "library": "var_list.r",
     "varRefreshCmd": "cat(var_dic_list()) "
    }
   },
   "types_to_exclude": [
    "module",
    "function",
    "builtin_function_or_method",
    "instance",
    "_Feature"
   ],
   "window_display": false
  }
 },
 "nbformat": 4,
 "nbformat_minor": 4
}
